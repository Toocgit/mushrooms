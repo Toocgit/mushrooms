{
  "nbformat": 4,
  "nbformat_minor": 0,
  "metadata": {
    "colab": {
      "name": "ML Mushroom poisonous or edible classification",
      "version": "0.3.2",
      "provenance": [],
      "collapsed_sections": [],
      "toc_visible": true
    },
    "kernelspec": {
      "name": "python3",
      "display_name": "Python 3"
    }
  },
  "cells": [
    {
      "metadata": {
        "id": "SyiDn4Ls8SaD",
        "colab_type": "text"
      },
      "cell_type": "markdown",
      "source": [
        "###Objective:\n",
        "The objective is for a program to learn to accurately classify a mushroom as poisonous or edible, based on its features.\n",
        "\n",
        "A logistic regression analysis involving gradient descent will be carried out."
      ]
    },
    {
      "metadata": {
        "id": "YzeNS3fI0-iS",
        "colab_type": "code",
        "colab": {}
      },
      "cell_type": "code",
      "source": [
        "from google.colab import files\n",
        "import pandas as pd\n",
        "import numpy as np\n",
        "import time\n",
        "# done"
      ],
      "execution_count": 0,
      "outputs": []
    },
    {
      "metadata": {
        "id": "1Hr3V6KZvapM",
        "colab_type": "text"
      },
      "cell_type": "markdown",
      "source": [
        "The data used is from Kaggle: https://www.kaggle.com/uciml/mushroom-classification\n",
        "\n",
        "Detailed information about the dataset can be found at the webpage linked above.\n",
        "\n",
        "The dataset is split into two datasets:\n",
        "\n",
        "1. A training dataset (80% of the original dataset)\n",
        "2. A testing dataset (20% of the original dataset)\n",
        "\n",
        "The two datasets are loaded into pandas dataframes in the following cell."
      ]
    },
    {
      "metadata": {
        "id": "hagOKPZ19DGT",
        "colab_type": "code",
        "outputId": "6fb0c16f-cd4e-4cc9-9b55-414dca87ff31",
        "colab": {
          "base_uri": "https://localhost:8080/",
          "height": 54
        }
      },
      "cell_type": "code",
      "source": [
        "# Load training data from CSV file into pandas dataframe\n",
        "CSVTrain = pd.read_csv(\"https://raw.githubusercontent.com/Toocgit/mushrooms/master/mushrooms_train.csv\")\n",
        "\n",
        "# Load test data from CSV file into pandas dataframe\n",
        "CSVTest = pd.read_csv(\"https://raw.githubusercontent.com/Toocgit/mushrooms/master/mushrooms_test.csv\")\n",
        "\n",
        "# Verify type dataframe and dataframe dimensions\n",
        "print(type(CSVTrain), CSVTrain.shape)\n",
        "print(type(CSVTest), CSVTest.shape)\n",
        "# done"
      ],
      "execution_count": 2,
      "outputs": [
        {
          "output_type": "stream",
          "text": [
            "<class 'pandas.core.frame.DataFrame'> (6509, 23)\n",
            "<class 'pandas.core.frame.DataFrame'> (1615, 23)\n"
          ],
          "name": "stdout"
        }
      ]
    },
    {
      "metadata": {
        "id": "15-iJ6qyxmsr",
        "colab_type": "text"
      },
      "cell_type": "markdown",
      "source": [
        "In the following code cell, the datasets are broken up into:\n",
        "1. Labels (mushroom classifications, poisonous / edible)\n",
        "2. Features (mushroom characteristics)\n",
        "\n",
        "There will be:\n",
        "1. Training features\n",
        "2. Training labels\n",
        "3. Testing features\n",
        "4. Testing labels"
      ]
    },
    {
      "metadata": {
        "id": "tlP6-imMMCEz",
        "colab_type": "code",
        "outputId": "694b533f-83bf-44ec-ffaf-028f4601e9ce",
        "colab": {
          "base_uri": "https://localhost:8080/",
          "height": 90
        }
      },
      "cell_type": "code",
      "source": [
        "# Separate labels and features, for training and testing datasets\n",
        "trainLabels = CSVTrain.iloc[:, [0]]\n",
        "trainFeatures = CSVTrain.iloc[:, 1:23]\n",
        "testLabels = CSVTest.iloc[:, [0]]\n",
        "testFeatures = CSVTest.iloc[:, 1:23]\n",
        "\n",
        "# Verify type dataframe and dataframe dimensions\n",
        "print(type(trainLabels), trainLabels.shape)\n",
        "print(type(trainFeatures), trainFeatures.shape)\n",
        "print(type(testLabels), testLabels.shape)\n",
        "print(type(testFeatures), testFeatures.shape)\n",
        "# done"
      ],
      "execution_count": 3,
      "outputs": [
        {
          "output_type": "stream",
          "text": [
            "<class 'pandas.core.frame.DataFrame'> (6509, 1)\n",
            "<class 'pandas.core.frame.DataFrame'> (6509, 22)\n",
            "<class 'pandas.core.frame.DataFrame'> (1615, 1)\n",
            "<class 'pandas.core.frame.DataFrame'> (1615, 22)\n"
          ],
          "name": "stdout"
        }
      ]
    },
    {
      "metadata": {
        "id": "tpAGudRMzDIN",
        "colab_type": "text"
      },
      "cell_type": "markdown",
      "source": [
        "The mushroom data is categorical. In the following cell, the unique categorical values are obtained for the training and testing, labels and features."
      ]
    },
    {
      "metadata": {
        "id": "hbgqsVF2Bp6i",
        "colab_type": "code",
        "outputId": "4ddd8cc1-5a6c-4c51-bed6-113430147925",
        "colab": {
          "base_uri": "https://localhost:8080/",
          "height": 90
        }
      },
      "cell_type": "code",
      "source": [
        "# Get unique categorical values for train and test, labels and features\n",
        "UniTrainLabels = trainLabels.nunique(axis=0, dropna=False)\n",
        "UniTrainFeatures = trainFeatures.nunique(axis=0, dropna=False)\n",
        "UniTestLabels = testLabels.nunique(axis=0, dropna=False)\n",
        "UniTestFeatures = testFeatures.nunique(axis=0, dropna=False)\n",
        "\n",
        "# Print number of unique categorical values for train and test, labels and features\n",
        "print(sum(UniTrainLabels))\n",
        "print(sum(UniTrainFeatures))\n",
        "print(sum(UniTestLabels))\n",
        "print(sum(UniTestFeatures))\n",
        "# done"
      ],
      "execution_count": 4,
      "outputs": [
        {
          "output_type": "stream",
          "text": [
            "2\n",
            "117\n",
            "2\n",
            "83\n"
          ],
          "name": "stdout"
        }
      ]
    },
    {
      "metadata": {
        "id": "rVCNBcz20dZ-",
        "colab_type": "text"
      },
      "cell_type": "markdown",
      "source": [
        "Using the training and testing feature datasets, create training and testing indicator feature datasets. One indicator feature for each regular feature unique categorical value."
      ]
    },
    {
      "metadata": {
        "id": "tLFfzlwzJvTe",
        "colab_type": "code",
        "outputId": "c7b5b8c3-e06e-460f-ce97-4dd01a3cafc8",
        "colab": {
          "base_uri": "https://localhost:8080/",
          "height": 54
        }
      },
      "cell_type": "code",
      "source": [
        "# Create indicator features from categorical features\n",
        "IndTrainFeatures = pd.get_dummies(trainFeatures)\n",
        "IndTestFeatures = pd.get_dummies(testFeatures)\n",
        "\n",
        "# Verify type dataframe and dimensions for train and test, indicator feature sets\n",
        "print(type(IndTrainFeatures), IndTrainFeatures.shape)\n",
        "print(type(IndTestFeatures), IndTestFeatures.shape)\n",
        "# done"
      ],
      "execution_count": 5,
      "outputs": [
        {
          "output_type": "stream",
          "text": [
            "<class 'pandas.core.frame.DataFrame'> (6509, 117)\n",
            "<class 'pandas.core.frame.DataFrame'> (1615, 83)\n"
          ],
          "name": "stdout"
        }
      ]
    },
    {
      "metadata": {
        "id": "3xnt8zDH06oU",
        "colab_type": "text"
      },
      "cell_type": "markdown",
      "source": [
        "In the following code cell, indicator features are downloaded for an offline check on accuracy."
      ]
    },
    {
      "metadata": {
        "id": "AezPhRRBxkzX",
        "colab_type": "code",
        "colab": {}
      },
      "cell_type": "code",
      "source": [
        "# Store first three records of train indicator feature set in dummiesCheck\n",
        "dummiesCheck = IndTrainFeatures.head(3)\n",
        "\n",
        "# Write dummiesCheck to CSV file and download it to a local computer directory\n",
        "with open('dummiesCheck.csv', 'w') as f:\n",
        "  f.write(dummiesCheck.to_csv())\n",
        "files.download('dummiesCheck.csv')\n",
        "# dummiesCheck.csv was reconciled with mushrooms_train.csv\n",
        "# done"
      ],
      "execution_count": 0,
      "outputs": []
    },
    {
      "metadata": {
        "id": "xLoCoeQv1uoc",
        "colab_type": "text"
      },
      "cell_type": "markdown",
      "source": [
        "There is a discrepancy in the number of unique categorical values, found in the training features and the testing features. The discrepancy carried across into the training and testing indicator features.\n",
        "\n",
        "An offline check is done to verify that the training features include all of the unique categorical values found in the original full mushroom dataset as sourced from Kaggle.\n",
        "\n",
        "In the following code cell, a reconciliation is done between the training and testing unique indicator features."
      ]
    },
    {
      "metadata": {
        "id": "1bt6BnNqgDlH",
        "colab_type": "code",
        "outputId": "662b7d4d-27f5-446b-9f3c-a220a2915949",
        "colab": {
          "base_uri": "https://localhost:8080/",
          "height": 54
        }
      },
      "cell_type": "code",
      "source": [
        "# Get a list of the train and test, indicator feature names\n",
        "IndTrainColumns = IndTrainFeatures.columns.values.tolist()\n",
        "IndTestColumns = IndTestFeatures.columns.values.tolist()\n",
        "\n",
        "# Verify type list and number of list items, for IndTrainColumns and IndTestColumns\n",
        "print(type(IndTrainColumns), len(IndTrainColumns))\n",
        "print(type(IndTestColumns), len(IndTestColumns))\n",
        "# done"
      ],
      "execution_count": 7,
      "outputs": [
        {
          "output_type": "stream",
          "text": [
            "<class 'list'> 117\n",
            "<class 'list'> 83\n"
          ],
          "name": "stdout"
        }
      ]
    },
    {
      "metadata": {
        "id": "CMbdJtgf3kz4",
        "colab_type": "text"
      },
      "cell_type": "markdown",
      "source": [
        "Sense check the training and testing indicator feature headers:"
      ]
    },
    {
      "metadata": {
        "id": "HBdfWRw_cIN5",
        "colab_type": "code",
        "outputId": "2b566813-7cb7-4d3d-ae7f-da013a371823",
        "colab": {
          "base_uri": "https://localhost:8080/",
          "height": 54
        }
      },
      "cell_type": "code",
      "source": [
        "# Sense check values in IndTrainColumns and IndTestColumns\n",
        "print(IndTrainColumns[0:5])\n",
        "print(IndTestColumns[0:5])\n",
        "# done"
      ],
      "execution_count": 8,
      "outputs": [
        {
          "output_type": "stream",
          "text": [
            "['cap-shape_b', 'cap-shape_c', 'cap-shape_f', 'cap-shape_k', 'cap-shape_s']\n",
            "['cap-shape_b', 'cap-shape_c', 'cap-shape_f', 'cap-shape_k', 'cap-shape_x']\n"
          ],
          "name": "stdout"
        }
      ]
    },
    {
      "metadata": {
        "id": "wTlJEzfq4R7o",
        "colab_type": "text"
      },
      "cell_type": "markdown",
      "source": [
        "Check which indicator features are missing from the testing indicator features:"
      ]
    },
    {
      "metadata": {
        "id": "wquWcWSQcIHV",
        "colab_type": "code",
        "outputId": "df1e299b-fe88-498c-cb31-03223a01fc3b",
        "colab": {
          "base_uri": "https://localhost:8080/",
          "height": 55
        }
      },
      "cell_type": "code",
      "source": [
        "MissingIndTestColumns = {}\n",
        "\n",
        "# For every training data indicator feature\n",
        "for IndFe in range(len(IndTrainColumns)):\n",
        "  # Check if the indicator feature is not in the test data indicator features\n",
        "  if IndTrainColumns[IndFe] not in IndTestColumns:\n",
        "    # If it is not, add it to MissingIndTestColumns\n",
        "    MissingIndTestColumns[IndFe] = IndTrainColumns[IndFe]\n",
        "\n",
        "# Check type, length and values of MissingIndTestColumns\n",
        "print(type(MissingIndTestColumns), len(MissingIndTestColumns), MissingIndTestColumns)\n",
        "# done"
      ],
      "execution_count": 9,
      "outputs": [
        {
          "output_type": "stream",
          "text": [
            "<class 'dict'> 34 {4: 'cap-shape_s', 7: 'cap-surface_g', 10: 'cap-color_b', 16: 'cap-color_r', 17: 'cap-color_u', 22: 'odor_a', 23: 'odor_c', 25: 'odor_l', 28: 'odor_p', 38: 'gill-color_e', 40: 'gill-color_h', 41: 'gill-color_k', 45: 'gill-color_r', 46: 'gill-color_u', 54: 'stalk-root_e', 55: 'stalk-root_r', 56: 'stalk-surface-above-ring_f', 60: 'stalk-surface-below-ring_f', 64: 'stalk-color-above-ring_b', 66: 'stalk-color-above-ring_e', 67: 'stalk-color-above-ring_g', 73: 'stalk-color-below-ring_b', 75: 'stalk-color-below-ring_e', 76: 'stalk-color-below-ring_g', 91: 'ring-type_f', 92: 'ring-type_l', 96: 'spore-print-color_h', 97: 'spore-print-color_k', 100: 'spore-print-color_r', 101: 'spore-print-color_u', 104: 'population_a', 113: 'habitat_m', 115: 'habitat_u', 116: 'habitat_w'}\n"
          ],
          "name": "stdout"
        }
      ]
    },
    {
      "metadata": {
        "id": "Pfuxm2tF473M",
        "colab_type": "text"
      },
      "cell_type": "markdown",
      "source": [
        "For each indicator feature missing from the testing indicator features, its position in the training indicator features is recorded. Below, a list of those positions is created."
      ]
    },
    {
      "metadata": {
        "id": "OGFMvY4hhwAi",
        "colab_type": "code",
        "outputId": "a98ae330-ab17-4d6c-8e70-9ebe6a5d49ab",
        "colab": {
          "base_uri": "https://localhost:8080/",
          "height": 55
        }
      },
      "cell_type": "code",
      "source": [
        "# For the indicator features missing from the test data, get their position in the training data\n",
        "colIndex = list(MissingIndTestColumns.keys())\n",
        "\n",
        "# Check type, length and values of colIndex\n",
        "print(type(colIndex), len(colIndex), colIndex)\n",
        "# done"
      ],
      "execution_count": 10,
      "outputs": [
        {
          "output_type": "stream",
          "text": [
            "<class 'list'> 34 [4, 7, 10, 16, 17, 22, 23, 25, 28, 38, 40, 41, 45, 46, 54, 55, 56, 60, 64, 66, 67, 73, 75, 76, 91, 92, 96, 97, 100, 101, 104, 113, 115, 116]\n"
          ],
          "name": "stdout"
        }
      ]
    },
    {
      "metadata": {
        "id": "DXCbLHWR53zj",
        "colab_type": "text"
      },
      "cell_type": "markdown",
      "source": [
        "Add missing indicator features into the testing indicator features dataframe and set all records to zero to indicate feature absent for each testing mushroom:"
      ]
    },
    {
      "metadata": {
        "id": "Xv-_2rSpcH9_",
        "colab_type": "code",
        "outputId": "119302ce-5beb-4f53-90e8-d5fda4e78a6a",
        "colab": {
          "base_uri": "https://localhost:8080/",
          "height": 35
        }
      },
      "cell_type": "code",
      "source": [
        "# For each missing indicator feature\n",
        "for index in range(len(colIndex)):\n",
        "  # Insert the missing indicator feature into the test data, with all values as 0\n",
        "  IndTestFeatures.insert(colIndex[index], MissingIndTestColumns[colIndex[index]], 0)\n",
        "\n",
        "# Verify updated dimensions of IndTestFeatures\n",
        "IndTestFeatures.shape\n",
        "# done"
      ],
      "execution_count": 11,
      "outputs": [
        {
          "output_type": "execute_result",
          "data": {
            "text/plain": [
              "(1615, 117)"
            ]
          },
          "metadata": {
            "tags": []
          },
          "execution_count": 11
        }
      ]
    },
    {
      "metadata": {
        "id": "GxqyqbXQ6Yob",
        "colab_type": "text"
      },
      "cell_type": "markdown",
      "source": [
        "Verify the same unique indicator features exist in the training and testing indicator features:"
      ]
    },
    {
      "metadata": {
        "id": "XD_w0XIcjGxV",
        "colab_type": "code",
        "outputId": "1f023c86-fcab-4c0a-aa7a-1e62c6f8bda4",
        "colab": {
          "base_uri": "https://localhost:8080/",
          "height": 35
        }
      },
      "cell_type": "code",
      "source": [
        "# Get updated list of the train and test, indicator feature names\n",
        "IndTrainColumns = IndTrainFeatures.columns.values.tolist()\n",
        "IndTestColumns = IndTestFeatures.columns.values.tolist()\n",
        "\n",
        "# Check the train indicator features and test indicator features match\n",
        "print((IndTrainColumns == IndTestColumns))\n",
        "# done"
      ],
      "execution_count": 12,
      "outputs": [
        {
          "output_type": "stream",
          "text": [
            "True\n"
          ],
          "name": "stdout"
        }
      ]
    },
    {
      "metadata": {
        "id": "bDNO0uU-60qI",
        "colab_type": "text"
      },
      "cell_type": "markdown",
      "source": [
        "For the indicator features added into the testing indicator features dataframe, check all the values are zero:"
      ]
    },
    {
      "metadata": {
        "id": "wKQi1jTfj8IP",
        "colab_type": "code",
        "outputId": "2307c4aa-c5e7-4224-a0fd-aa652104c404",
        "colab": {
          "base_uri": "https://localhost:8080/",
          "height": 35
        }
      },
      "cell_type": "code",
      "source": [
        "missColValuesSum = 0\n",
        "\n",
        "# For each of the columns added to IndTestFeatures\n",
        "for num in range(len(colIndex)):\n",
        "  # Add the sum of that column's values to missColValuesSum\n",
        "  missColValuesSum += IndTestFeatures[MissingIndTestColumns[colIndex[num]]].sum()\n",
        "\n",
        "# Print missColValuesSum\n",
        "print(missColValuesSum)\n",
        "# done"
      ],
      "execution_count": 13,
      "outputs": [
        {
          "output_type": "stream",
          "text": [
            "0\n"
          ],
          "name": "stdout"
        }
      ]
    },
    {
      "metadata": {
        "id": "3FNXZQXdGNMa",
        "colab_type": "code",
        "outputId": "1f7c9ab1-a90b-4b5e-97b8-30590538555c",
        "colab": {
          "base_uri": "https://localhost:8080/",
          "height": 35
        }
      },
      "cell_type": "code",
      "source": [
        "# Sense check index for series and sum method\n",
        "print(type(IndTestFeatures[\"cap-shape_b\"]), IndTestFeatures[\"cap-shape_b\"].sum())\n",
        "# done"
      ],
      "execution_count": 14,
      "outputs": [
        {
          "output_type": "stream",
          "text": [
            "<class 'pandas.core.series.Series'> 140\n"
          ],
          "name": "stdout"
        }
      ]
    },
    {
      "metadata": {
        "id": "CouKH73J7oc2",
        "colab_type": "text"
      },
      "cell_type": "markdown",
      "source": [
        "Create new label dataframes, replacing value p (poisonous) with 1, and value e (edible) with 0:"
      ]
    },
    {
      "metadata": {
        "id": "hELSXVx1jGri",
        "colab_type": "code",
        "outputId": "e30d6975-5939-4647-aeff-dc31536433c9",
        "colab": {
          "base_uri": "https://localhost:8080/",
          "height": 217
        }
      },
      "cell_type": "code",
      "source": [
        "# For train and test labels, convert p to 1 and e to 0\n",
        "mapping = {'p': 1, 'e': 0}\n",
        "trainDataLabels = pd.DataFrame(trainLabels.iloc[:, 0].map(mapping))\n",
        "testDataLabels = pd.DataFrame(testLabels.iloc[:, 0].map(mapping))\n",
        "\n",
        "# Check type, dimensions, number unique and sample values for trainDataLabels and testDataLabels\n",
        "print(type(trainDataLabels), trainDataLabels.shape, trainDataLabels.nunique(axis=0, dropna=False))\n",
        "print(type(testDataLabels), testDataLabels.shape, testDataLabels.nunique(axis=0, dropna=False))\n",
        "print(trainDataLabels.head(3), testDataLabels.head(3))\n",
        "# done"
      ],
      "execution_count": 15,
      "outputs": [
        {
          "output_type": "stream",
          "text": [
            "<class 'pandas.core.frame.DataFrame'> (6509, 1) class    2\n",
            "dtype: int64\n",
            "<class 'pandas.core.frame.DataFrame'> (1615, 1) class    2\n",
            "dtype: int64\n",
            "   class\n",
            "0      1\n",
            "1      0\n",
            "2      0    class\n",
            "0      1\n",
            "1      1\n",
            "2      1\n"
          ],
          "name": "stdout"
        }
      ]
    },
    {
      "metadata": {
        "id": "-kSbYgH48DBU",
        "colab_type": "text"
      },
      "cell_type": "markdown",
      "source": [
        "Create numpy ndarrays from pandas dataframes:"
      ]
    },
    {
      "metadata": {
        "id": "tVZusv5Ggip2",
        "colab_type": "code",
        "outputId": "fa40ef4e-3dab-4929-9c60-affca38d8e09",
        "colab": {
          "base_uri": "https://localhost:8080/",
          "height": 90
        }
      },
      "cell_type": "code",
      "source": [
        "# Create numpy ndarrays for indicator features and labels (train and test)\n",
        "npTrainFeat = IndTrainFeatures.values\n",
        "npTestFeat = IndTestFeatures.values\n",
        "npTrainLabel = trainDataLabels.values\n",
        "npTestLabel = testDataLabels.values\n",
        "\n",
        "# Verify type, shape and transpose of each ndarray\n",
        "print(type(npTrainFeat), npTrainFeat.shape, npTrainFeat.T.shape)\n",
        "print(type(npTestFeat), npTestFeat.shape, npTestFeat.T.shape)\n",
        "print(type(npTrainLabel), npTrainLabel.shape, npTrainLabel.T.shape)\n",
        "print(type(npTestLabel), npTestLabel.shape, npTestLabel.T.shape)\n",
        "# done"
      ],
      "execution_count": 16,
      "outputs": [
        {
          "output_type": "stream",
          "text": [
            "<class 'numpy.ndarray'> (6509, 117) (117, 6509)\n",
            "<class 'numpy.ndarray'> (1615, 117) (117, 1615)\n",
            "<class 'numpy.ndarray'> (6509, 1) (1, 6509)\n",
            "<class 'numpy.ndarray'> (1615, 1) (1, 1615)\n"
          ],
          "name": "stdout"
        }
      ]
    },
    {
      "metadata": {
        "id": "ZCGBY37z9GMM",
        "colab_type": "text"
      },
      "cell_type": "markdown",
      "source": [
        "In the following code cell, the sigmoid function is defined."
      ]
    },
    {
      "metadata": {
        "id": "YxPiJz10OQeR",
        "colab_type": "code",
        "colab": {}
      },
      "cell_type": "code",
      "source": [
        "# I wrote this function as a part of course 1 of Andrew Ng's Deep Learning Specialisation\n",
        "\n",
        "# Define sigmoid activation function\n",
        "def sigmoid(z):\n",
        "    \"\"\"\n",
        "    Compute the sigmoid of z\n",
        "    Arguments:\n",
        "    z -- A scalar or numpy array of any size.\n",
        "    Return:\n",
        "    s -- sigmoid(z)\n",
        "    \"\"\"\n",
        "    s = 1 / (1 + np.exp(-(z)))\n",
        "\n",
        "    return s\n",
        "# done"
      ],
      "execution_count": 0,
      "outputs": []
    },
    {
      "metadata": {
        "id": "VEuG0U31B_3R",
        "colab_type": "text"
      },
      "cell_type": "markdown",
      "source": [
        "In the following code cell, a function is defined to initialise hypothesis function parameters, a set of weights and a bias, to zero."
      ]
    },
    {
      "metadata": {
        "id": "uIGiUVQwOQVq",
        "colab_type": "code",
        "colab": {}
      },
      "cell_type": "code",
      "source": [
        "# I wrote this function as a part of course 1 of Andrew Ng's Deep Learning Specialisation\n",
        "\n",
        "# Define function to initialise hypothesis function parameters to 0\n",
        "def initialize_with_zeros(dim):\n",
        "    \"\"\"\n",
        "    This function creates a vector of zeros of shape (dim, 1) for w and initializes b to 0.\n",
        "    Argument:\n",
        "    dim -- size of the w vector we want\n",
        "    Returns:\n",
        "    w -- initialized vector of shape (dim, 1)\n",
        "    b -- initialized scalar (the bias)\n",
        "    \"\"\"\n",
        "    w = np.zeros((dim, 1))\n",
        "    b = 0\n",
        "\n",
        "    # Verify dimensions of w\n",
        "    assert (w.shape == (dim, 1))\n",
        "    # Verify type of b\n",
        "    assert (isinstance(b, float) or isinstance(b, int))\n",
        "\n",
        "    return w, b\n",
        "# done"
      ],
      "execution_count": 0,
      "outputs": []
    },
    {
      "metadata": {
        "id": "oXoDXbZaDHRl",
        "colab_type": "text"
      },
      "cell_type": "markdown",
      "source": [
        "In the following code cell, a function is defined to:\n",
        "1. Get the number of dataset examples\n",
        "2. For every mushroom, calculate the probability of it being poisonous\n",
        "3. Calculate the cost\n",
        "4. Calculate the gradient of the cost function"
      ]
    },
    {
      "metadata": {
        "id": "DZGPE8nmOQMQ",
        "colab_type": "code",
        "colab": {}
      },
      "cell_type": "code",
      "source": [
        "# I wrote this function as a part of course 1 of Andrew Ng's Deep Learning Specialisation\n",
        "\n",
        "# Calculate cost and its derivative with respect to hypothesis function parameters\n",
        "def propagate(w, b, X, Y):\n",
        "    \"\"\"\n",
        "    Implement the cost function and its gradient\n",
        "    Arguments:\n",
        "    w -- weights (number of features, 1)\n",
        "    b -- bias, a real number\n",
        "    X -- features of size (number of features, number of examples)\n",
        "    Y -- true \"label\" vector of size (1, number of examples)\n",
        "\n",
        "    Return:\n",
        "    cost -- negative log-likelihood cost for logistic regression\n",
        "    dw -- gradient of the loss with respect to w, thus same shape as w\n",
        "    db -- gradient of the loss with respect to b, thus same shape as b\n",
        "    \"\"\"\n",
        "\n",
        "    # Get number of examples\n",
        "    m = X.shape[1]\n",
        "\n",
        "    # Calculate sigmoid of all examples\n",
        "    A = sigmoid((np.dot(w.T, X) + b))\n",
        "\n",
        "    # Calculate cost\n",
        "    cost = (-(1 / m)) * np.sum((Y * np.log(A)) + ((1 - Y) * np.log(1 - A)))\n",
        "\n",
        "    # Calculate cost gradient, with respect to hypothesis function weights\n",
        "    dw = np.dot(X, (A - Y).T) / m\n",
        "\n",
        "    # Calculate cost gradient, with respect to hypothesis function bias\n",
        "    db = np.sum(A - Y) / m\n",
        "\n",
        "    # Verify cost partial derivative for each weight\n",
        "    assert (dw.shape == w.shape)\n",
        "\n",
        "    # Verify db data type\n",
        "    assert (db.dtype == float)\n",
        "\n",
        "    # Verify cost shape\n",
        "    cost = np.squeeze(cost)\n",
        "    assert (cost.shape == ())\n",
        "\n",
        "    # Create dict for dw and db\n",
        "    grads = {\"dw\": dw,\n",
        "             \"db\": db}\n",
        "\n",
        "    return grads, cost\n",
        "# done"
      ],
      "execution_count": 0,
      "outputs": []
    },
    {
      "metadata": {
        "id": "GXtZmq2nHkyK",
        "colab_type": "text"
      },
      "cell_type": "markdown",
      "source": [
        "Define a function for gradient descent:"
      ]
    },
    {
      "metadata": {
        "id": "GSR2SzffOPE9",
        "colab_type": "code",
        "colab": {}
      },
      "cell_type": "code",
      "source": [
        "# I wrote this function as a part of course 1 of Andrew Ng's Deep Learning Specialisation\n",
        "\n",
        "# Define gradient descent algorithm\n",
        "def optimize(w, b, X, Y, num_iterations, learning_rate, print_cost):\n",
        "    \"\"\"\n",
        "    This function optimizes w and b by running a gradient descent algorithm\n",
        "    Arguments:\n",
        "    w -- weights (number of features, 1)\n",
        "    b -- bias, a real number\n",
        "    X -- features of size (number of features, number of examples)\n",
        "    Y -- true \"label\" vector of size (1, number of examples)\n",
        "    num_iterations -- number of iterations of the optimization loop\n",
        "    learning_rate -- learning rate of the gradient descent update rule\n",
        "    print_cost -- True to print the loss every 100 steps\n",
        "\n",
        "    Returns:\n",
        "    params -- dictionary containing the weights w and bias b\n",
        "    grads -- dictionary containing the gradients of the cost with respect to the weights and bias\n",
        "    costs -- list of all the costs computed during the optimization\n",
        "    \"\"\"\n",
        "\n",
        "    costs = []\n",
        "\n",
        "    # For each iteration\n",
        "    for i in range(num_iterations):\n",
        "\n",
        "        # Cost and gradient calculation\n",
        "        grads, cost = propagate(w, b, X, Y)\n",
        "\n",
        "        # Retrieve partial derivatives from grads\n",
        "        dw = grads[\"dw\"]\n",
        "        db = grads[\"db\"]\n",
        "\n",
        "        # Parameter update rule\n",
        "        w = w - (learning_rate * dw)\n",
        "        b = b - (learning_rate * db)\n",
        "\n",
        "        # Record every hundredth cost\n",
        "        if i % 100 == 0:\n",
        "            costs.append(cost)\n",
        "\n",
        "        # Print the cost every 100 iterations\n",
        "        if print_cost and i % 100 == 0:\n",
        "            print(\"Cost after iteration %i: %f\" %(i, cost))\n",
        "\n",
        "    # Create dict of learned optimal parameters\n",
        "    params = {\"w\": w,\n",
        "              \"b\": b}\n",
        "\n",
        "    # Create dict of most recent cost partial derivatives\n",
        "    grads = {\"dw\": dw,\n",
        "             \"db\": db}\n",
        "\n",
        "    return params, grads, costs\n",
        "# done"
      ],
      "execution_count": 0,
      "outputs": []
    },
    {
      "metadata": {
        "id": "HI3RUnQsIfeO",
        "colab_type": "text"
      },
      "cell_type": "markdown",
      "source": [
        "In the following code cell, a function is defined to classify a mushroom as poisonous or edible."
      ]
    },
    {
      "metadata": {
        "id": "yk_tUVv6OO5h",
        "colab_type": "code",
        "colab": {}
      },
      "cell_type": "code",
      "source": [
        "# I wrote this function as a part of course 1 of Andrew Ng's Deep Learning Specialisation\n",
        "\n",
        "# Define function to predict whether mushroom is poisonous or edible\n",
        "def predict(w, b, X):\n",
        "    '''\n",
        "    Predict whether the label is 0 or 1 using learned logistic regression parameters (w, b)\n",
        "    Arguments:\n",
        "    w -- weights (number of features, 1)\n",
        "    b -- bias, a real number\n",
        "    X -- features of size (number of features, number of examples)\n",
        "\n",
        "    Returns:\n",
        "    Y_prediction -- a vector containing all predictions (0/1) for the examples in X\n",
        "    '''\n",
        "    \n",
        "    # Get example count\n",
        "    m = X.shape[1]\n",
        "    \n",
        "    # Set prediction for all examples to 0\n",
        "    Y_prediction = np.zeros((1,m))\n",
        "    \n",
        "    # Ensure correct shape for weights\n",
        "    w = w.reshape(X.shape[0], 1)\n",
        "    \n",
        "    # Compute probability of each mushroom being poisonous\n",
        "    A = sigmoid(np.dot(w.T, X) + b)\n",
        "    \n",
        "    # For each mushroom a poisonous probability was computed for...\n",
        "    for i in range(A.shape[1]):\n",
        "        \n",
        "        # If probability A[0,i] > 0.5\n",
        "        if A[0, i] > 0.5:\n",
        "            # Update prediction p[0,i] to poisonous\n",
        "            Y_prediction[0, i] = 1\n",
        "        \n",
        "    # Verify Y_prediction shape\n",
        "    assert (Y_prediction.shape == (1, m))\n",
        "    \n",
        "    return Y_prediction\n",
        "# done"
      ],
      "execution_count": 0,
      "outputs": []
    },
    {
      "metadata": {
        "id": "TFIjQFfII04n",
        "colab_type": "text"
      },
      "cell_type": "markdown",
      "source": [
        "Define logistic regression model with gradient descent:"
      ]
    },
    {
      "metadata": {
        "id": "q2R1vXL1OOui",
        "colab_type": "code",
        "colab": {}
      },
      "cell_type": "code",
      "source": [
        "# I wrote this function as a part of course 1 of Andrew Ng's Deep Learning Specialisation\n",
        "\n",
        "# Define logistic regression model function\n",
        "def model(X_train, Y_train, X_test, Y_test, num_iterations, learning_rate, print_cost):\n",
        "    \"\"\"\n",
        "    Builds the logistic regression model by calling the functions defined above\n",
        "    Arguments:\n",
        "    X_train -- training set of shape (number of features, number of examples)\n",
        "    Y_train -- training labels of shape (1, number of examples)\n",
        "    X_test -- test set of shape (number of features, number of examples)\n",
        "    Y_test -- test labels of shape (1, number of examples)\n",
        "    num_iterations -- hyperparameter representing the number of iterations to optimize the parameters\n",
        "    learning_rate -- hyperparameter representing the learning rate used in the update rule of optimize\n",
        "    print_cost -- Set to true to print the cost every 100 iterations\n",
        "\n",
        "    Returns:\n",
        "    d -- dictionary containing information about the model.\n",
        "    \"\"\"\n",
        "\n",
        "    # Initialize hypothesis function parameters to zeros\n",
        "    w, b = initialize_with_zeros(X_train.shape[0])\n",
        "\n",
        "    # Run gradient descent\n",
        "    parameters, grads, costs = optimize(w, b, X_train, Y_train, num_iterations, learning_rate, print_cost)\n",
        "    \n",
        "    # Retrieve parameters w and b from dictionary \"parameters\"\n",
        "    w = parameters[\"w\"]\n",
        "    b = parameters[\"b\"]\n",
        "    \n",
        "    # Make predictions for test/train set examples\n",
        "    Y_prediction_test = predict(w, b, X_test)\n",
        "    Y_prediction_train = predict(w, b, X_train)\n",
        "\n",
        "    # Print prediction accuracy\n",
        "    print(\"train accuracy: {} %\".format(100 - np.mean(np.abs(Y_prediction_train - Y_train)) * 100))\n",
        "    print(\"test accuracy: {} %\".format(100 - np.mean(np.abs(Y_prediction_test - Y_test)) * 100))\n",
        "\n",
        "    d = {\"costs\": costs,\n",
        "         \"Y_prediction_test\": Y_prediction_test,\n",
        "         \"Y_prediction_train\": Y_prediction_train,\n",
        "         \"w\": w,\n",
        "         \"b\": b,\n",
        "         \"learning_rate\": learning_rate,\n",
        "         \"num_iterations\": num_iterations}\n",
        "    \n",
        "    return d\n",
        "# done"
      ],
      "execution_count": 0,
      "outputs": []
    },
    {
      "metadata": {
        "id": "MOnWyrPmOtsC",
        "colab_type": "text"
      },
      "cell_type": "markdown",
      "source": [
        "In the following code cell, the logistic regression model is executed for the first time. 2000 gradient descent steps are taken and the learning rate is 0.015.\n",
        "\n",
        "After learning some hypothesis function parameters using the training data, the program is able to accurately classify 97% of the training data mushrooms as poisonous or edible.\n",
        "\n",
        "The same percentage of correct classifications is achieved on the testing data mushrooms."
      ]
    },
    {
      "metadata": {
        "id": "sKa9khHQOOkN",
        "colab_type": "code",
        "outputId": "a8223655-2ca6-4e34-9b79-686a75ac919e",
        "colab": {
          "base_uri": "https://localhost:8080/",
          "height": 435
        }
      },
      "cell_type": "code",
      "source": [
        "# First run of logistic regression model\n",
        "m1Start = time.time()\n",
        "model_one = model(npTrainFeat.T, npTrainLabel.T, npTestFeat.T, npTestLabel.T, 2000, 0.015, True)\n",
        "m1End = time.time()\n",
        "print(\"Runtime in seconds: \", (m1End - m1Start))\n",
        "# done"
      ],
      "execution_count": 23,
      "outputs": [
        {
          "output_type": "stream",
          "text": [
            "Cost after iteration 0: 0.693147\n",
            "Cost after iteration 100: 0.420332\n",
            "Cost after iteration 200: 0.325161\n",
            "Cost after iteration 300: 0.274102\n",
            "Cost after iteration 400: 0.240839\n",
            "Cost after iteration 500: 0.216834\n",
            "Cost after iteration 600: 0.198427\n",
            "Cost after iteration 700: 0.183739\n",
            "Cost after iteration 800: 0.171676\n",
            "Cost after iteration 900: 0.161551\n",
            "Cost after iteration 1000: 0.152903\n",
            "Cost after iteration 1100: 0.145410\n",
            "Cost after iteration 1200: 0.138839\n",
            "Cost after iteration 1300: 0.133017\n",
            "Cost after iteration 1400: 0.127813\n",
            "Cost after iteration 1500: 0.123125\n",
            "Cost after iteration 1600: 0.118873\n",
            "Cost after iteration 1700: 0.114993\n",
            "Cost after iteration 1800: 0.111434\n",
            "Cost after iteration 1900: 0.108153\n",
            "train accuracy: 97.89522200030727 %\n",
            "test accuracy: 97.46130030959752 %\n",
            "Runtime in seconds:  10.461497783660889\n"
          ],
          "name": "stdout"
        }
      ]
    },
    {
      "metadata": {
        "id": "xbqvItwBKsI3",
        "colab_type": "text"
      },
      "cell_type": "markdown",
      "source": [
        "In the following code cell, the logistic regression model is executed for a second time. 20000 gradient descent steps are taken and the learning rate is unchanged at 0.015.\n",
        "The training data classification accuracy is improved at 99%. The testing data classification accuracy is unchanged at 97%."
      ]
    },
    {
      "metadata": {
        "id": "rJge6CZwCAhl",
        "colab_type": "code",
        "outputId": "682ebb17-e3d6-41e7-f114-00f7f387c07d",
        "colab": {
          "base_uri": "https://localhost:8080/",
          "height": 3708
        }
      },
      "cell_type": "code",
      "source": [
        "# Second run of logistic regression model\n",
        "m2Start = time.time()\n",
        "model_two = model(npTrainFeat.T, npTrainLabel.T, npTestFeat.T, npTestLabel.T, 20000, 0.015, True)\n",
        "m2End = time.time()\n",
        "print(\"Runtime in seconds: \", (m2End - m2Start))\n",
        "# done"
      ],
      "execution_count": 24,
      "outputs": [
        {
          "output_type": "stream",
          "text": [
            "Cost after iteration 0: 0.693147\n",
            "Cost after iteration 100: 0.420332\n",
            "Cost after iteration 200: 0.325161\n",
            "Cost after iteration 300: 0.274102\n",
            "Cost after iteration 400: 0.240839\n",
            "Cost after iteration 500: 0.216834\n",
            "Cost after iteration 600: 0.198427\n",
            "Cost after iteration 700: 0.183739\n",
            "Cost after iteration 800: 0.171676\n",
            "Cost after iteration 900: 0.161551\n",
            "Cost after iteration 1000: 0.152903\n",
            "Cost after iteration 1100: 0.145410\n",
            "Cost after iteration 1200: 0.138839\n",
            "Cost after iteration 1300: 0.133017\n",
            "Cost after iteration 1400: 0.127813\n",
            "Cost after iteration 1500: 0.123125\n",
            "Cost after iteration 1600: 0.118873\n",
            "Cost after iteration 1700: 0.114993\n",
            "Cost after iteration 1800: 0.111434\n",
            "Cost after iteration 1900: 0.108153\n",
            "Cost after iteration 2000: 0.105115\n",
            "Cost after iteration 2100: 0.102291\n",
            "Cost after iteration 2200: 0.099657\n",
            "Cost after iteration 2300: 0.097192\n",
            "Cost after iteration 2400: 0.094879\n",
            "Cost after iteration 2500: 0.092702\n",
            "Cost after iteration 2600: 0.090648\n",
            "Cost after iteration 2700: 0.088706\n",
            "Cost after iteration 2800: 0.086866\n",
            "Cost after iteration 2900: 0.085120\n",
            "Cost after iteration 3000: 0.083459\n",
            "Cost after iteration 3100: 0.081877\n",
            "Cost after iteration 3200: 0.080367\n",
            "Cost after iteration 3300: 0.078925\n",
            "Cost after iteration 3400: 0.077546\n",
            "Cost after iteration 3500: 0.076224\n",
            "Cost after iteration 3600: 0.074956\n",
            "Cost after iteration 3700: 0.073740\n",
            "Cost after iteration 3800: 0.072570\n",
            "Cost after iteration 3900: 0.071445\n",
            "Cost after iteration 4000: 0.070362\n",
            "Cost after iteration 4100: 0.069317\n",
            "Cost after iteration 4200: 0.068310\n",
            "Cost after iteration 4300: 0.067338\n",
            "Cost after iteration 4400: 0.066398\n",
            "Cost after iteration 4500: 0.065490\n",
            "Cost after iteration 4600: 0.064612\n",
            "Cost after iteration 4700: 0.063761\n",
            "Cost after iteration 4800: 0.062937\n",
            "Cost after iteration 4900: 0.062139\n",
            "Cost after iteration 5000: 0.061364\n",
            "Cost after iteration 5100: 0.060613\n",
            "Cost after iteration 5200: 0.059883\n",
            "Cost after iteration 5300: 0.059174\n",
            "Cost after iteration 5400: 0.058485\n",
            "Cost after iteration 5500: 0.057815\n",
            "Cost after iteration 5600: 0.057164\n",
            "Cost after iteration 5700: 0.056530\n",
            "Cost after iteration 5800: 0.055912\n",
            "Cost after iteration 5900: 0.055311\n",
            "Cost after iteration 6000: 0.054725\n",
            "Cost after iteration 6100: 0.054154\n",
            "Cost after iteration 6200: 0.053596\n",
            "Cost after iteration 6300: 0.053053\n",
            "Cost after iteration 6400: 0.052523\n",
            "Cost after iteration 6500: 0.052005\n",
            "Cost after iteration 6600: 0.051499\n",
            "Cost after iteration 6700: 0.051005\n",
            "Cost after iteration 6800: 0.050523\n",
            "Cost after iteration 6900: 0.050051\n",
            "Cost after iteration 7000: 0.049590\n",
            "Cost after iteration 7100: 0.049139\n",
            "Cost after iteration 7200: 0.048697\n",
            "Cost after iteration 7300: 0.048265\n",
            "Cost after iteration 7400: 0.047842\n",
            "Cost after iteration 7500: 0.047428\n",
            "Cost after iteration 7600: 0.047023\n",
            "Cost after iteration 7700: 0.046626\n",
            "Cost after iteration 7800: 0.046237\n",
            "Cost after iteration 7900: 0.045855\n",
            "Cost after iteration 8000: 0.045481\n",
            "Cost after iteration 8100: 0.045115\n",
            "Cost after iteration 8200: 0.044755\n",
            "Cost after iteration 8300: 0.044402\n",
            "Cost after iteration 8400: 0.044056\n",
            "Cost after iteration 8500: 0.043716\n",
            "Cost after iteration 8600: 0.043383\n",
            "Cost after iteration 8700: 0.043055\n",
            "Cost after iteration 8800: 0.042734\n",
            "Cost after iteration 8900: 0.042418\n",
            "Cost after iteration 9000: 0.042108\n",
            "Cost after iteration 9100: 0.041803\n",
            "Cost after iteration 9200: 0.041503\n",
            "Cost after iteration 9300: 0.041209\n",
            "Cost after iteration 9400: 0.040919\n",
            "Cost after iteration 9500: 0.040635\n",
            "Cost after iteration 9600: 0.040355\n",
            "Cost after iteration 9700: 0.040079\n",
            "Cost after iteration 9800: 0.039809\n",
            "Cost after iteration 9900: 0.039542\n",
            "Cost after iteration 10000: 0.039280\n",
            "Cost after iteration 10100: 0.039022\n",
            "Cost after iteration 10200: 0.038768\n",
            "Cost after iteration 10300: 0.038517\n",
            "Cost after iteration 10400: 0.038271\n",
            "Cost after iteration 10500: 0.038029\n",
            "Cost after iteration 10600: 0.037790\n",
            "Cost after iteration 10700: 0.037554\n",
            "Cost after iteration 10800: 0.037323\n",
            "Cost after iteration 10900: 0.037094\n",
            "Cost after iteration 11000: 0.036869\n",
            "Cost after iteration 11100: 0.036647\n",
            "Cost after iteration 11200: 0.036429\n",
            "Cost after iteration 11300: 0.036213\n",
            "Cost after iteration 11400: 0.036000\n",
            "Cost after iteration 11500: 0.035791\n",
            "Cost after iteration 11600: 0.035584\n",
            "Cost after iteration 11700: 0.035380\n",
            "Cost after iteration 11800: 0.035179\n",
            "Cost after iteration 11900: 0.034981\n",
            "Cost after iteration 12000: 0.034785\n",
            "Cost after iteration 12100: 0.034592\n",
            "Cost after iteration 12200: 0.034401\n",
            "Cost after iteration 12300: 0.034213\n",
            "Cost after iteration 12400: 0.034028\n",
            "Cost after iteration 12500: 0.033844\n",
            "Cost after iteration 12600: 0.033663\n",
            "Cost after iteration 12700: 0.033485\n",
            "Cost after iteration 12800: 0.033308\n",
            "Cost after iteration 12900: 0.033134\n",
            "Cost after iteration 13000: 0.032962\n",
            "Cost after iteration 13100: 0.032792\n",
            "Cost after iteration 13200: 0.032624\n",
            "Cost after iteration 13300: 0.032458\n",
            "Cost after iteration 13400: 0.032294\n",
            "Cost after iteration 13500: 0.032132\n",
            "Cost after iteration 13600: 0.031972\n",
            "Cost after iteration 13700: 0.031814\n",
            "Cost after iteration 13800: 0.031658\n",
            "Cost after iteration 13900: 0.031504\n",
            "Cost after iteration 14000: 0.031351\n",
            "Cost after iteration 14100: 0.031200\n",
            "Cost after iteration 14200: 0.031051\n",
            "Cost after iteration 14300: 0.030903\n",
            "Cost after iteration 14400: 0.030757\n",
            "Cost after iteration 14500: 0.030613\n",
            "Cost after iteration 14600: 0.030470\n",
            "Cost after iteration 14700: 0.030329\n",
            "Cost after iteration 14800: 0.030189\n",
            "Cost after iteration 14900: 0.030051\n",
            "Cost after iteration 15000: 0.029914\n",
            "Cost after iteration 15100: 0.029779\n",
            "Cost after iteration 15200: 0.029646\n",
            "Cost after iteration 15300: 0.029513\n",
            "Cost after iteration 15400: 0.029382\n",
            "Cost after iteration 15500: 0.029253\n",
            "Cost after iteration 15600: 0.029124\n",
            "Cost after iteration 15700: 0.028997\n",
            "Cost after iteration 15800: 0.028872\n",
            "Cost after iteration 15900: 0.028747\n",
            "Cost after iteration 16000: 0.028624\n",
            "Cost after iteration 16100: 0.028502\n",
            "Cost after iteration 16200: 0.028381\n",
            "Cost after iteration 16300: 0.028262\n",
            "Cost after iteration 16400: 0.028143\n",
            "Cost after iteration 16500: 0.028026\n",
            "Cost after iteration 16600: 0.027910\n",
            "Cost after iteration 16700: 0.027795\n",
            "Cost after iteration 16800: 0.027681\n",
            "Cost after iteration 16900: 0.027568\n",
            "Cost after iteration 17000: 0.027457\n",
            "Cost after iteration 17100: 0.027346\n",
            "Cost after iteration 17200: 0.027236\n",
            "Cost after iteration 17300: 0.027128\n",
            "Cost after iteration 17400: 0.027020\n",
            "Cost after iteration 17500: 0.026913\n",
            "Cost after iteration 17600: 0.026808\n",
            "Cost after iteration 17700: 0.026703\n",
            "Cost after iteration 17800: 0.026599\n",
            "Cost after iteration 17900: 0.026496\n",
            "Cost after iteration 18000: 0.026394\n",
            "Cost after iteration 18100: 0.026293\n",
            "Cost after iteration 18200: 0.026193\n",
            "Cost after iteration 18300: 0.026094\n",
            "Cost after iteration 18400: 0.025996\n",
            "Cost after iteration 18500: 0.025898\n",
            "Cost after iteration 18600: 0.025801\n",
            "Cost after iteration 18700: 0.025705\n",
            "Cost after iteration 18800: 0.025610\n",
            "Cost after iteration 18900: 0.025516\n",
            "Cost after iteration 19000: 0.025423\n",
            "Cost after iteration 19100: 0.025330\n",
            "Cost after iteration 19200: 0.025238\n",
            "Cost after iteration 19300: 0.025147\n",
            "Cost after iteration 19400: 0.025056\n",
            "Cost after iteration 19500: 0.024967\n",
            "Cost after iteration 19600: 0.024878\n",
            "Cost after iteration 19700: 0.024789\n",
            "Cost after iteration 19800: 0.024702\n",
            "Cost after iteration 19900: 0.024615\n",
            "train accuracy: 99.81563988323859 %\n",
            "test accuracy: 97.3374613003096 %\n",
            "Runtime in seconds:  100.01919770240784\n"
          ],
          "name": "stdout"
        }
      ]
    },
    {
      "metadata": {
        "id": "aBxkPNgyTfwv",
        "colab_type": "text"
      },
      "cell_type": "markdown",
      "source": [
        "A third run of the logistic regression model is executed in the following code cell. 2000 gradient descent steps are taken and the learning rate is 0.5.\n",
        "The program is able to accurately classify 99% of the training mushrooms and 98% of the testing mushrooms."
      ]
    },
    {
      "metadata": {
        "id": "XgxsGAsFWiG8",
        "colab_type": "code",
        "outputId": "64542ac2-4f1c-4f82-eec0-e05f1e7e5429",
        "colab": {
          "base_uri": "https://localhost:8080/",
          "height": 435
        }
      },
      "cell_type": "code",
      "source": [
        "# Third run of logistic regression model\n",
        "m3Start = time.time()\n",
        "model_three = model(npTrainFeat.T, npTrainLabel.T, npTestFeat.T, npTestLabel.T, 2000, 0.5, True)\n",
        "m3End = time.time()\n",
        "print(\"Runtime in seconds: \", (m3End - m3Start))\n",
        "# done"
      ],
      "execution_count": 25,
      "outputs": [
        {
          "output_type": "stream",
          "text": [
            "Cost after iteration 0: 0.693147\n",
            "Cost after iteration 100: 0.078084\n",
            "Cost after iteration 200: 0.051024\n",
            "Cost after iteration 300: 0.039199\n",
            "Cost after iteration 400: 0.032351\n",
            "Cost after iteration 500: 0.027796\n",
            "Cost after iteration 600: 0.024501\n",
            "Cost after iteration 700: 0.021978\n",
            "Cost after iteration 800: 0.019969\n",
            "Cost after iteration 900: 0.018319\n",
            "Cost after iteration 1000: 0.016933\n",
            "Cost after iteration 1100: 0.015748\n",
            "Cost after iteration 1200: 0.014721\n",
            "Cost after iteration 1300: 0.013819\n",
            "Cost after iteration 1400: 0.013021\n",
            "Cost after iteration 1500: 0.012309\n",
            "Cost after iteration 1600: 0.011670\n",
            "Cost after iteration 1700: 0.011092\n",
            "Cost after iteration 1800: 0.010568\n",
            "Cost after iteration 1900: 0.010090\n",
            "train accuracy: 99.89245659855584 %\n",
            "test accuracy: 98.45201238390092 %\n",
            "Runtime in seconds:  9.667662143707275\n"
          ],
          "name": "stdout"
        }
      ]
    },
    {
      "metadata": {
        "id": "xyctc806OOXM",
        "colab_type": "code",
        "outputId": "cc3a23d9-07e2-4d53-a9c7-e1c8e1cbb6e3",
        "colab": {
          "base_uri": "https://localhost:8080/",
          "height": 92
        }
      },
      "cell_type": "code",
      "source": [
        "# Check for expected keys in model output dicts\n",
        "print(model_one.keys())\n",
        "print(model_two.keys())\n",
        "print(model_three.keys())\n",
        "# done"
      ],
      "execution_count": 26,
      "outputs": [
        {
          "output_type": "stream",
          "text": [
            "dict_keys(['costs', 'Y_prediction_test', 'Y_prediction_train', 'w', 'b', 'learning_rate', 'num_iterations'])\n",
            "dict_keys(['costs', 'Y_prediction_test', 'Y_prediction_train', 'w', 'b', 'learning_rate', 'num_iterations'])\n",
            "dict_keys(['costs', 'Y_prediction_test', 'Y_prediction_train', 'w', 'b', 'learning_rate', 'num_iterations'])\n"
          ],
          "name": "stdout"
        }
      ]
    },
    {
      "metadata": {
        "id": "z93DK6IRT3fl",
        "colab_type": "text"
      },
      "cell_type": "markdown",
      "source": [
        "An interesting observation in the following code cell output is that the learned bias of the first and third model act to classify mushrooms as poisonous whereas the learned bias of the second model would act to classify mushrooms as edible.\n",
        "\n",
        "This variability requires further investigation, outside the scope of this project."
      ]
    },
    {
      "metadata": {
        "id": "JTMWnVFMtZ2f",
        "colab_type": "code",
        "outputId": "2c4a8724-4c78-492f-e0ee-7a57c8d4b7f6",
        "colab": {
          "base_uri": "https://localhost:8080/",
          "height": 72
        }
      },
      "cell_type": "code",
      "source": [
        "# Check value of learned bias for each model\n",
        "print(model_one['b'])\n",
        "print(model_two['b'])\n",
        "print(model_three['b'])\n",
        "# done"
      ],
      "execution_count": 27,
      "outputs": [
        {
          "output_type": "stream",
          "text": [
            "0.010509180779368665\n",
            "-0.0019200792399652418\n",
            "0.007252501284600106\n"
          ],
          "name": "stdout"
        }
      ]
    },
    {
      "metadata": {
        "id": "u-fDyqXP5oue",
        "colab_type": "code",
        "outputId": "b5d1a1ba-bd18-4fff-ad2d-43f4e40296f3",
        "colab": {
          "base_uri": "https://localhost:8080/",
          "height": 35
        }
      },
      "cell_type": "code",
      "source": [
        "# Check data type of model learned weights\n",
        "type(model_one['w'])\n",
        "# done"
      ],
      "execution_count": 28,
      "outputs": [
        {
          "output_type": "execute_result",
          "data": {
            "text/plain": [
              "numpy.ndarray"
            ]
          },
          "metadata": {
            "tags": []
          },
          "execution_count": 28
        }
      ]
    },
    {
      "metadata": {
        "id": "LYlSzvrUD2fG",
        "colab_type": "code",
        "outputId": "b33ee1b5-2404-42fe-b7f7-922c085a4198",
        "colab": {
          "base_uri": "https://localhost:8080/",
          "height": 72
        }
      },
      "cell_type": "code",
      "source": [
        "# Create dataframe for each model learned weights\n",
        "m1weights = pd.DataFrame.from_dict(model_one['w'])\n",
        "m2weights = pd.DataFrame.from_dict(model_two['w'])\n",
        "m3weights = pd.DataFrame.from_dict(model_three['w'])\n",
        "\n",
        "# Check for dataframe type and shape\n",
        "print(type(m1weights), m1weights.shape)\n",
        "print(type(m2weights), m2weights.shape)\n",
        "print(type(m3weights), m3weights.shape)\n",
        "# done"
      ],
      "execution_count": 29,
      "outputs": [
        {
          "output_type": "stream",
          "text": [
            "<class 'pandas.core.frame.DataFrame'> (117, 1)\n",
            "<class 'pandas.core.frame.DataFrame'> (117, 1)\n",
            "<class 'pandas.core.frame.DataFrame'> (117, 1)\n"
          ],
          "name": "stdout"
        }
      ]
    },
    {
      "metadata": {
        "id": "ekibuezZEGBK",
        "colab_type": "code",
        "outputId": "408da48a-7943-4a11-dac4-cabca55fc506",
        "colab": {
          "base_uri": "https://localhost:8080/",
          "height": 235
        }
      },
      "cell_type": "code",
      "source": [
        "# Sense check weight values\n",
        "print(m1weights.head(3))\n",
        "print(m2weights.head(3))\n",
        "print(m3weights.head(3))\n",
        "# done"
      ],
      "execution_count": 30,
      "outputs": [
        {
          "output_type": "stream",
          "text": [
            "          0\n",
            "0 -0.056552\n",
            "1  0.006831\n",
            "2  0.081142\n",
            "          0\n",
            "0  0.213989\n",
            "1  0.073459\n",
            "2  0.093557\n",
            "          0\n",
            "0  0.542081\n",
            "1  0.207228\n",
            "2  0.026127\n"
          ],
          "name": "stdout"
        }
      ]
    },
    {
      "metadata": {
        "id": "ngZ54B0NZdXa",
        "colab_type": "text"
      },
      "cell_type": "markdown",
      "source": [
        "The following two code cells involve a check on the greatest learned weight for each model and as a consequence, the most significant feature for a poisonous classification. All three models point to indicator feature 24, see further below for what feature that is."
      ]
    },
    {
      "metadata": {
        "id": "mbqfKXm3EI84",
        "colab_type": "code",
        "outputId": "db8d6fe6-fd3e-4b7a-b233-9f8cb3a918d3",
        "colab": {
          "base_uri": "https://localhost:8080/",
          "height": 72
        }
      },
      "cell_type": "code",
      "source": [
        "# Find greatest weight for each model\n",
        "print(m1weights.iloc[:, 0].idxmax(), m1weights.iloc[:, 0].max())\n",
        "print(m2weights.iloc[:, 0].idxmax(), m2weights.iloc[:, 0].max())\n",
        "print(m3weights.iloc[:, 0].idxmax(), m3weights.iloc[:, 0].max())\n",
        "# done"
      ],
      "execution_count": 31,
      "outputs": [
        {
          "output_type": "stream",
          "text": [
            "24 0.916698404805886\n",
            "24 1.8447427687724076\n",
            "24 2.5064639850291943\n"
          ],
          "name": "stdout"
        }
      ]
    },
    {
      "metadata": {
        "id": "FO_Vx7qIFU2o",
        "colab_type": "code",
        "outputId": "17b9418b-7a93-40de-df96-865fe4603658",
        "colab": {
          "base_uri": "https://localhost:8080/",
          "height": 72
        }
      },
      "cell_type": "code",
      "source": [
        "# Sense check last code cell\n",
        "print(m1weights.iloc[24, 0])\n",
        "print(m2weights.iloc[24, 0])\n",
        "print(m3weights.iloc[24, 0])\n",
        "# done"
      ],
      "execution_count": 32,
      "outputs": [
        {
          "output_type": "stream",
          "text": [
            "0.916698404805886\n",
            "1.8447427687724076\n",
            "2.5064639850291943\n"
          ],
          "name": "stdout"
        }
      ]
    },
    {
      "metadata": {
        "id": "UF3HT-KlBGsw",
        "colab_type": "code",
        "colab": {}
      },
      "cell_type": "code",
      "source": [
        "# Create dataframes of model costs\n",
        "m1costs = pd.DataFrame.from_dict(model_one['costs'])\n",
        "m2costs = pd.DataFrame.from_dict(model_two['costs'])\n",
        "m3costs = pd.DataFrame.from_dict(model_three['costs'])\n",
        "# done"
      ],
      "execution_count": 0,
      "outputs": []
    },
    {
      "metadata": {
        "id": "gesggCuSb-ci",
        "colab_type": "text"
      },
      "cell_type": "markdown",
      "source": [
        "In the following code cell, the 'learning curve' for each model is plot. The y axis has the cost function output and the x axis has every one hundredth gradient descent step. The model three plot is where the cost minimises to convergence very quickly, after what looks like about 100 gradient descent steps. Model three used the greatest learning rate."
      ]
    },
    {
      "metadata": {
        "id": "zW6tjiEOBGQf",
        "colab_type": "code",
        "outputId": "4d381bb0-d8a9-4b31-f138-9206c56d7a35",
        "colab": {
          "base_uri": "https://localhost:8080/",
          "height": 1025
        }
      },
      "cell_type": "code",
      "source": [
        "# Plot learning curves\n",
        "m1costs.plot.line()\n",
        "m2costs.plot.line()\n",
        "m3costs.plot.line()\n",
        "# done"
      ],
      "execution_count": 34,
      "outputs": [
        {
          "output_type": "execute_result",
          "data": {
            "text/plain": [
              "<matplotlib.axes._subplots.AxesSubplot at 0x7f36caa16d68>"
            ]
          },
          "metadata": {
            "tags": []
          },
          "execution_count": 34
        },
        {
          "output_type": "display_data",
          "data": {
            "image/png": "[encoded data removed]",
            "text/plain": [
              "<Figure size 576x396 with 1 Axes>"
            ]
          },
          "metadata": {
            "tags": []
          }
        },
        {
          "output_type": "display_data",
          "data": {
            "image/png": "[encoded data removed]",
            "text/plain": [
              "<Figure size 576x396 with 1 Axes>"
            ]
          },
          "metadata": {
            "tags": []
          }
        },
        {
          "output_type": "display_data",
          "data": {
            "image/png": "[encoded data removed]",
            "text/plain": [
              "<Figure size 576x396 with 1 Axes>"
            ]
          },
          "metadata": {
            "tags": []
          }
        }
      ]
    },
    {
      "metadata": {
        "id": "vqnDAfWEXDdA",
        "colab_type": "text"
      },
      "cell_type": "markdown",
      "source": [
        "In the following code cell, a check on each model's five greatest learned weights is done and, as a result, the five most significant features that contribute to a poisonous classification.\n",
        "\n",
        "Interestingly, there is variability across the models as to what the five most significant features to a poisonous classification are. Further investigation is required, outside the scope of this project."
      ]
    },
    {
      "metadata": {
        "id": "Cfh7jsBzn-SV",
        "colab_type": "code",
        "outputId": "b9b8188f-9db9-4a7f-d2c9-b0301f9c4021",
        "colab": {
          "base_uri": "https://localhost:8080/",
          "height": 345
        }
      },
      "cell_type": "code",
      "source": [
        "# Check five greatest weights per model\n",
        "print(m1weights.nlargest(5, 0))\n",
        "print(m2weights.nlargest(5, 0))\n",
        "print(m3weights.nlargest(5, 0))\n",
        "# done"
      ],
      "execution_count": 35,
      "outputs": [
        {
          "output_type": "stream",
          "text": [
            "            0\n",
            "24   0.916698\n",
            "36   0.747348\n",
            "96   0.673443\n",
            "108  0.585371\n",
            "57   0.572514\n",
            "           0\n",
            "24  1.844743\n",
            "52  1.528609\n",
            "28  1.452484\n",
            "36  1.379474\n",
            "23  1.235566\n",
            "            0\n",
            "24   2.506464\n",
            "52   2.263623\n",
            "28   2.092444\n",
            "23   2.030237\n",
            "100  1.957834\n"
          ],
          "name": "stdout"
        }
      ]
    },
    {
      "metadata": {
        "id": "RYuVq8q4g-Vd",
        "colab_type": "text"
      },
      "cell_type": "markdown",
      "source": [
        "In the following code cell, a check on each model's five smallest learned weights is performed and, as a result, which five features per model are most significant to an edible classification.\n",
        "\n",
        "Again there is variability across the models as to what the five most significant features to an edible classification are, further investigation is required."
      ]
    },
    {
      "metadata": {
        "id": "RZem839voKRw",
        "colab_type": "code",
        "outputId": "978e4f12-387b-4efd-bf19-9d6f03fa2f30",
        "colab": {
          "base_uri": "https://localhost:8080/",
          "height": 345
        }
      },
      "cell_type": "code",
      "source": [
        "# Check five smallest weights per model\n",
        "print(m1weights.nsmallest(5, 0))\n",
        "print(m2weights.nsmallest(5, 0))\n",
        "print(m3weights.nsmallest(5, 0))\n",
        "# done"
      ],
      "execution_count": 36,
      "outputs": [
        {
          "output_type": "stream",
          "text": [
            "           0\n",
            "27 -1.325841\n",
            "35 -0.736839\n",
            "98 -0.515929\n",
            "58 -0.490938\n",
            "97 -0.474107\n",
            "           0\n",
            "27 -2.812242\n",
            "35 -1.381394\n",
            "22 -1.260489\n",
            "25 -1.260489\n",
            "53 -1.109363\n",
            "           0\n",
            "27 -3.708213\n",
            "25 -2.061147\n",
            "22 -2.061147\n",
            "35 -1.902235\n",
            "53 -1.456662\n"
          ],
          "name": "stdout"
        }
      ]
    },
    {
      "metadata": {
        "id": "mwuLX35zsYHd",
        "colab_type": "text"
      },
      "cell_type": "markdown",
      "source": [
        "The next six code cells involve checks on indexes."
      ]
    },
    {
      "metadata": {
        "id": "FCmV6pjNyQNK",
        "colab_type": "code",
        "outputId": "0bf3f0c6-ceb3-43cc-c0e7-7b5c9b1e602e",
        "colab": {
          "base_uri": "https://localhost:8080/",
          "height": 54
        }
      },
      "cell_type": "code",
      "source": [
        "# Check shape and index of weights\n",
        "print(m1weights.shape)\n",
        "print(m1weights.index)\n",
        "# done"
      ],
      "execution_count": 37,
      "outputs": [
        {
          "output_type": "stream",
          "text": [
            "(117, 1)\n",
            "RangeIndex(start=0, stop=117, step=1)\n"
          ],
          "name": "stdout"
        }
      ]
    },
    {
      "metadata": {
        "id": "XfvQ_mHyr59V",
        "colab_type": "code",
        "outputId": "6c068bbd-f83d-40a1-ff68-e0f6ba6a6615",
        "colab": {
          "base_uri": "https://localhost:8080/",
          "height": 825
        }
      },
      "cell_type": "code",
      "source": [
        "# Verify index 117 is out of range\n",
        "m1weights.iloc[117, 0]\n",
        "# done"
      ],
      "execution_count": 38,
      "outputs": [
        {
          "output_type": "error",
          "ename": "IndexError",
          "evalue": "ignored",
          "traceback": [
            "\u001b[0;31m---------------------------------------------------------------------------\u001b[0m",
            "\u001b[0;31mIndexError\u001b[0m                                Traceback (most recent call last)",
            "\u001b[0;32m<ipython-input-38-176fd5a44d11>\u001b[0m in \u001b[0;36m<module>\u001b[0;34m()\u001b[0m\n\u001b[0;32m----> 1\u001b[0;31m \u001b[0mm1weights\u001b[0m\u001b[0;34m.\u001b[0m\u001b[0miloc\u001b[0m\u001b[0;34m[\u001b[0m\u001b[0;36m117\u001b[0m\u001b[0;34m,\u001b[0m \u001b[0;36m0\u001b[0m\u001b[0;34m]\u001b[0m\u001b[0;34m\u001b[0m\u001b[0;34m\u001b[0m\u001b[0m\n\u001b[0m\u001b[1;32m      2\u001b[0m \u001b[0;31m# done\u001b[0m\u001b[0;34m\u001b[0m\u001b[0;34m\u001b[0m\u001b[0;34m\u001b[0m\u001b[0m\n",
            "\u001b[0;32m/usr/local/lib/python3.6/dist-packages/pandas/core/indexing.py\u001b[0m in \u001b[0;36m__getitem__\u001b[0;34m(self, key)\u001b[0m\n\u001b[1;32m   1365\u001b[0m             \u001b[0;32mexcept\u001b[0m \u001b[0;34m(\u001b[0m\u001b[0mKeyError\u001b[0m\u001b[0;34m,\u001b[0m \u001b[0mIndexError\u001b[0m\u001b[0;34m)\u001b[0m\u001b[0;34m:\u001b[0m\u001b[0;34m\u001b[0m\u001b[0;34m\u001b[0m\u001b[0m\n\u001b[1;32m   1366\u001b[0m                 \u001b[0;32mpass\u001b[0m\u001b[0;34m\u001b[0m\u001b[0;34m\u001b[0m\u001b[0m\n\u001b[0;32m-> 1367\u001b[0;31m             \u001b[0;32mreturn\u001b[0m \u001b[0mself\u001b[0m\u001b[0;34m.\u001b[0m\u001b[0m_getitem_tuple\u001b[0m\u001b[0;34m(\u001b[0m\u001b[0mkey\u001b[0m\u001b[0;34m)\u001b[0m\u001b[0;34m\u001b[0m\u001b[0;34m\u001b[0m\u001b[0m\n\u001b[0m\u001b[1;32m   1368\u001b[0m         \u001b[0;32melse\u001b[0m\u001b[0;34m:\u001b[0m\u001b[0;34m\u001b[0m\u001b[0;34m\u001b[0m\u001b[0m\n\u001b[1;32m   1369\u001b[0m             \u001b[0;31m# we by definition only have the 0th axis\u001b[0m\u001b[0;34m\u001b[0m\u001b[0;34m\u001b[0m\u001b[0;34m\u001b[0m\u001b[0m\n",
            "\u001b[0;32m/usr/local/lib/python3.6/dist-packages/pandas/core/indexing.py\u001b[0m in \u001b[0;36m_getitem_tuple\u001b[0;34m(self, tup)\u001b[0m\n\u001b[1;32m   1735\u001b[0m     \u001b[0;32mdef\u001b[0m \u001b[0m_getitem_tuple\u001b[0m\u001b[0;34m(\u001b[0m\u001b[0mself\u001b[0m\u001b[0;34m,\u001b[0m \u001b[0mtup\u001b[0m\u001b[0;34m)\u001b[0m\u001b[0;34m:\u001b[0m\u001b[0;34m\u001b[0m\u001b[0;34m\u001b[0m\u001b[0m\n\u001b[1;32m   1736\u001b[0m \u001b[0;34m\u001b[0m\u001b[0m\n\u001b[0;32m-> 1737\u001b[0;31m         \u001b[0mself\u001b[0m\u001b[0;34m.\u001b[0m\u001b[0m_has_valid_tuple\u001b[0m\u001b[0;34m(\u001b[0m\u001b[0mtup\u001b[0m\u001b[0;34m)\u001b[0m\u001b[0;34m\u001b[0m\u001b[0;34m\u001b[0m\u001b[0m\n\u001b[0m\u001b[1;32m   1738\u001b[0m         \u001b[0;32mtry\u001b[0m\u001b[0;34m:\u001b[0m\u001b[0;34m\u001b[0m\u001b[0;34m\u001b[0m\u001b[0m\n\u001b[1;32m   1739\u001b[0m             \u001b[0;32mreturn\u001b[0m \u001b[0mself\u001b[0m\u001b[0;34m.\u001b[0m\u001b[0m_getitem_lowerdim\u001b[0m\u001b[0;34m(\u001b[0m\u001b[0mtup\u001b[0m\u001b[0;34m)\u001b[0m\u001b[0;34m\u001b[0m\u001b[0;34m\u001b[0m\u001b[0m\n",
            "\u001b[0;32m/usr/local/lib/python3.6/dist-packages/pandas/core/indexing.py\u001b[0m in \u001b[0;36m_has_valid_tuple\u001b[0;34m(self, key)\u001b[0m\n\u001b[1;32m    202\u001b[0m             \u001b[0;32mif\u001b[0m \u001b[0mi\u001b[0m \u001b[0;34m>=\u001b[0m \u001b[0mself\u001b[0m\u001b[0;34m.\u001b[0m\u001b[0mobj\u001b[0m\u001b[0;34m.\u001b[0m\u001b[0mndim\u001b[0m\u001b[0;34m:\u001b[0m\u001b[0;34m\u001b[0m\u001b[0;34m\u001b[0m\u001b[0m\n\u001b[1;32m    203\u001b[0m                 \u001b[0;32mraise\u001b[0m \u001b[0mIndexingError\u001b[0m\u001b[0;34m(\u001b[0m\u001b[0;34m'Too many indexers'\u001b[0m\u001b[0;34m)\u001b[0m\u001b[0;34m\u001b[0m\u001b[0;34m\u001b[0m\u001b[0m\n\u001b[0;32m--> 204\u001b[0;31m             \u001b[0;32mif\u001b[0m \u001b[0;32mnot\u001b[0m \u001b[0mself\u001b[0m\u001b[0;34m.\u001b[0m\u001b[0m_has_valid_type\u001b[0m\u001b[0;34m(\u001b[0m\u001b[0mk\u001b[0m\u001b[0;34m,\u001b[0m \u001b[0mi\u001b[0m\u001b[0;34m)\u001b[0m\u001b[0;34m:\u001b[0m\u001b[0;34m\u001b[0m\u001b[0;34m\u001b[0m\u001b[0m\n\u001b[0m\u001b[1;32m    205\u001b[0m                 raise ValueError(\"Location based indexing can only have \"\n\u001b[1;32m    206\u001b[0m                                  \u001b[0;34m\"[{types}] types\"\u001b[0m\u001b[0;34m\u001b[0m\u001b[0;34m\u001b[0m\u001b[0m\n",
            "\u001b[0;32m/usr/local/lib/python3.6/dist-packages/pandas/core/indexing.py\u001b[0m in \u001b[0;36m_has_valid_type\u001b[0;34m(self, key, axis)\u001b[0m\n\u001b[1;32m   1670\u001b[0m             \u001b[0;32mreturn\u001b[0m \u001b[0;32mTrue\u001b[0m\u001b[0;34m\u001b[0m\u001b[0;34m\u001b[0m\u001b[0m\n\u001b[1;32m   1671\u001b[0m         \u001b[0;32melif\u001b[0m \u001b[0mis_integer\u001b[0m\u001b[0;34m(\u001b[0m\u001b[0mkey\u001b[0m\u001b[0;34m)\u001b[0m\u001b[0;34m:\u001b[0m\u001b[0;34m\u001b[0m\u001b[0;34m\u001b[0m\u001b[0m\n\u001b[0;32m-> 1672\u001b[0;31m             \u001b[0;32mreturn\u001b[0m \u001b[0mself\u001b[0m\u001b[0;34m.\u001b[0m\u001b[0m_is_valid_integer\u001b[0m\u001b[0;34m(\u001b[0m\u001b[0mkey\u001b[0m\u001b[0;34m,\u001b[0m \u001b[0maxis\u001b[0m\u001b[0;34m)\u001b[0m\u001b[0;34m\u001b[0m\u001b[0;34m\u001b[0m\u001b[0m\n\u001b[0m\u001b[1;32m   1673\u001b[0m         \u001b[0;32melif\u001b[0m \u001b[0mis_list_like_indexer\u001b[0m\u001b[0;34m(\u001b[0m\u001b[0mkey\u001b[0m\u001b[0;34m)\u001b[0m\u001b[0;34m:\u001b[0m\u001b[0;34m\u001b[0m\u001b[0;34m\u001b[0m\u001b[0m\n\u001b[1;32m   1674\u001b[0m             \u001b[0;32mreturn\u001b[0m \u001b[0mself\u001b[0m\u001b[0;34m.\u001b[0m\u001b[0m_is_valid_list_like\u001b[0m\u001b[0;34m(\u001b[0m\u001b[0mkey\u001b[0m\u001b[0;34m,\u001b[0m \u001b[0maxis\u001b[0m\u001b[0;34m)\u001b[0m\u001b[0;34m\u001b[0m\u001b[0;34m\u001b[0m\u001b[0m\n",
            "\u001b[0;32m/usr/local/lib/python3.6/dist-packages/pandas/core/indexing.py\u001b[0m in \u001b[0;36m_is_valid_integer\u001b[0;34m(self, key, axis)\u001b[0m\n\u001b[1;32m   1711\u001b[0m         \u001b[0ml\u001b[0m \u001b[0;34m=\u001b[0m \u001b[0mlen\u001b[0m\u001b[0;34m(\u001b[0m\u001b[0max\u001b[0m\u001b[0;34m)\u001b[0m\u001b[0;34m\u001b[0m\u001b[0;34m\u001b[0m\u001b[0m\n\u001b[1;32m   1712\u001b[0m         \u001b[0;32mif\u001b[0m \u001b[0mkey\u001b[0m \u001b[0;34m>=\u001b[0m \u001b[0ml\u001b[0m \u001b[0;32mor\u001b[0m \u001b[0mkey\u001b[0m \u001b[0;34m<\u001b[0m \u001b[0;34m-\u001b[0m\u001b[0ml\u001b[0m\u001b[0;34m:\u001b[0m\u001b[0;34m\u001b[0m\u001b[0;34m\u001b[0m\u001b[0m\n\u001b[0;32m-> 1713\u001b[0;31m             \u001b[0;32mraise\u001b[0m \u001b[0mIndexError\u001b[0m\u001b[0;34m(\u001b[0m\u001b[0;34m\"single positional indexer is out-of-bounds\"\u001b[0m\u001b[0;34m)\u001b[0m\u001b[0;34m\u001b[0m\u001b[0;34m\u001b[0m\u001b[0m\n\u001b[0m\u001b[1;32m   1714\u001b[0m         \u001b[0;32mreturn\u001b[0m \u001b[0;32mTrue\u001b[0m\u001b[0;34m\u001b[0m\u001b[0;34m\u001b[0m\u001b[0m\n\u001b[1;32m   1715\u001b[0m \u001b[0;34m\u001b[0m\u001b[0m\n",
            "\u001b[0;31mIndexError\u001b[0m: single positional indexer is out-of-bounds"
          ]
        }
      ]
    },
    {
      "metadata": {
        "id": "eCCTyKNur_R3",
        "colab_type": "code",
        "outputId": "81c3743c-f549-44a0-e2f3-4c905145cb82",
        "colab": {
          "base_uri": "https://localhost:8080/",
          "height": 35
        }
      },
      "cell_type": "code",
      "source": [
        "# Verify index 116 in range\n",
        "m1weights.iloc[116, 0]\n",
        "# done"
      ],
      "execution_count": 39,
      "outputs": [
        {
          "output_type": "execute_result",
          "data": {
            "text/plain": [
              "-0.15056092995012443"
            ]
          },
          "metadata": {
            "tags": []
          },
          "execution_count": 39
        }
      ]
    },
    {
      "metadata": {
        "id": "aLBjcjIEo8eE",
        "colab_type": "code",
        "outputId": "420b7142-4512-4a6f-bc2b-da85993dc7dd",
        "colab": {
          "base_uri": "https://localhost:8080/",
          "height": 35
        }
      },
      "cell_type": "code",
      "source": [
        "# Check length of list IndTrainColumns\n",
        "len(IndTrainColumns)\n",
        "# done"
      ],
      "execution_count": 40,
      "outputs": [
        {
          "output_type": "execute_result",
          "data": {
            "text/plain": [
              "117"
            ]
          },
          "metadata": {
            "tags": []
          },
          "execution_count": 40
        }
      ]
    },
    {
      "metadata": {
        "id": "nhpu0MU1sFcC",
        "colab_type": "code",
        "outputId": "c6636cba-5b58-4e70-a3ca-e7d995519784",
        "colab": {
          "base_uri": "https://localhost:8080/",
          "height": 189
        }
      },
      "cell_type": "code",
      "source": [
        "# Check index 117 out of range\n",
        "IndTrainColumns[117]\n",
        "# done"
      ],
      "execution_count": 41,
      "outputs": [
        {
          "output_type": "error",
          "ename": "IndexError",
          "evalue": "ignored",
          "traceback": [
            "\u001b[0;31m---------------------------------------------------------------------------\u001b[0m",
            "\u001b[0;31mIndexError\u001b[0m                                Traceback (most recent call last)",
            "\u001b[0;32m<ipython-input-41-078b4a14b843>\u001b[0m in \u001b[0;36m<module>\u001b[0;34m()\u001b[0m\n\u001b[0;32m----> 1\u001b[0;31m \u001b[0mIndTrainColumns\u001b[0m\u001b[0;34m[\u001b[0m\u001b[0;36m117\u001b[0m\u001b[0;34m]\u001b[0m\u001b[0;34m\u001b[0m\u001b[0;34m\u001b[0m\u001b[0m\n\u001b[0m\u001b[1;32m      2\u001b[0m \u001b[0;31m# done\u001b[0m\u001b[0;34m\u001b[0m\u001b[0;34m\u001b[0m\u001b[0;34m\u001b[0m\u001b[0m\n",
            "\u001b[0;31mIndexError\u001b[0m: list index out of range"
          ]
        }
      ]
    },
    {
      "metadata": {
        "id": "wgssa0ossJht",
        "colab_type": "code",
        "outputId": "3c625998-b61f-4961-8b2b-b5f52d15d76e",
        "colab": {
          "base_uri": "https://localhost:8080/",
          "height": 35
        }
      },
      "cell_type": "code",
      "source": [
        "# Check index 116 in range\n",
        "IndTrainColumns[116]\n",
        "# done"
      ],
      "execution_count": 42,
      "outputs": [
        {
          "output_type": "execute_result",
          "data": {
            "text/plain": [
              "'habitat_w'"
            ]
          },
          "metadata": {
            "tags": []
          },
          "execution_count": 42
        }
      ]
    },
    {
      "metadata": {
        "id": "zhaeQ-wUxXXo",
        "colab_type": "text"
      },
      "cell_type": "markdown",
      "source": [
        "All three models learned weights which indicate:\n",
        "1. Mushroom odor of f (foul) is the most significant feature / common characteristic of poisonous mushrooms.\n",
        "2. Mushroom odor of n (none) is the most significant feature / common characteristic of edible mushrooms."
      ]
    },
    {
      "metadata": {
        "id": "9OOi1kiWpUEZ",
        "colab_type": "code",
        "outputId": "0f351abc-9d21-4be5-ca60-98c5b5c06c1e",
        "colab": {
          "base_uri": "https://localhost:8080/",
          "height": 54
        }
      },
      "cell_type": "code",
      "source": [
        "# Check what are indicator features [24] and [27]\n",
        "print(IndTrainColumns[24])\n",
        "print(IndTrainColumns[27])\n",
        "# done"
      ],
      "execution_count": 43,
      "outputs": [
        {
          "output_type": "stream",
          "text": [
            "odor_f\n",
            "odor_n\n"
          ],
          "name": "stdout"
        }
      ]
    }
  ]
}